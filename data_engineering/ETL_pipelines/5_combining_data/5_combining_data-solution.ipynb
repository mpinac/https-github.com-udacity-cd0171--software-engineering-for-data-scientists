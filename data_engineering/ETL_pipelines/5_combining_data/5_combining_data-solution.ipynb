{
 "cells": [
  {
   "cell_type": "markdown",
   "metadata": {},
   "source": [
    "# Combining Data\n",
    "\n",
    "Practice combining data from two different data sets. In the same folder as this Jupyter notebook, there are two csv files:\n",
    "* rural_population_percent.csv\n",
    "* electricity_access_percent.csv\n",
    "\n",
    "They both come from the World Bank Indicators data. \n",
    "* https://data.worldbank.org/indicator/SP.RUR.TOTL.ZS\n",
    "* https://data.worldbank.org/indicator/EG.ELC.ACCS.ZS\n",
    "\n",
    "The rural populaton data represents the percent of a country's population that is rural over time. The electricity access data shows the percentage of people with access to electricity.\n",
    "\n",
    "In this exercise, you will combine these two data sets together into one pandas data frame."
   ]
  },
  {
   "cell_type": "markdown",
   "metadata": {},
   "source": [
    "# Exercise 1\n",
    "\n",
    "Combine the two data sets using the [pandas concat method](https://pandas.pydata.org/pandas-docs/stable/merging.html). In other words, find the union of the two data sets."
   ]
  },
  {
   "cell_type": "code",
   "execution_count": 1,
   "metadata": {},
   "outputs": [],
   "source": [
    "# TODO: import the pandas library\n",
    "import pandas as pd\n",
    "\n",
    "# TODO: read in each csv file into a separate variable\n",
    "# HINT: remember from the Extract material that these csv file have some formatting issues\n",
    "df_rural = pd.read_csv('rural_population_percent.csv', skiprows=4)\n",
    "df_electricity = pd.read_csv('electricity_access_percent.csv', skiprows=4)\n",
    "\n",
    "# TODO: remove the 'Unnamed: 62' column from each data set\n",
    "df_rural.drop('Unnamed: 62', axis=1, inplace=True)\n",
    "df_electricity.drop('Unnamed: 62', axis=1, inplace=True)\n",
    "\n",
    "# TODO: combine the two data sets together using the concat method\n",
    "# In other words, all of the words of df_rural will come first\n",
    "# followed by all the rows in df_electricity. This is possible to do\n",
    "# because they both have the same column names.\n",
    "df = pd.concat([df_rural, df_electricity])"
   ]
  },
  {
   "cell_type": "markdown",
   "metadata": {},
   "source": [
    "# Exercise 2 (Challenge)\n",
    "\n",
    "This exercise is more challenging. Combine the data in the csv file together to the output that look like the following:\n",
    "\n",
    "|Country Name|Country Code|Year|Rural_Value|Electricity_Value|\n",
    "|--|--|--|--|--|\n",
    "|Aruba|ABW|1960|49.224|49.239|\n",
    "... etc.\n",
    "\n",
    "Order the results in the dataframe by country and then by year\n",
    "\n",
    "Here are a few pandas methods that should be helpful:\n",
    "* [melt](http://pandas.pydata.org/pandas-docs/stable/generated/pandas.melt.html)\n",
    "* [merge](https://pandas.pydata.org/pandas-docs/version/0.23/generated/pandas.DataFrame.merge.html)\n",
    "* [sort_values](https://pandas.pydata.org/pandas-docs/stable/generated/pandas.DataFrame.sort_values.html)\n",
    "\n",
    "HINT: You can use country name, country code, and the year as common keys between the data sets"
   ]
  },
  {
   "cell_type": "code",
   "execution_count": 5,
   "metadata": {},
   "outputs": [
    {
     "data": {
      "text/html": [
       "<div>\n",
       "<style scoped>\n",
       "    .dataframe tbody tr th:only-of-type {\n",
       "        vertical-align: middle;\n",
       "    }\n",
       "\n",
       "    .dataframe tbody tr th {\n",
       "        vertical-align: top;\n",
       "    }\n",
       "\n",
       "    .dataframe thead th {\n",
       "        text-align: right;\n",
       "    }\n",
       "</style>\n",
       "<table border=\"1\" class=\"dataframe\">\n",
       "  <thead>\n",
       "    <tr style=\"text-align: right;\">\n",
       "      <th></th>\n",
       "      <th>Country Name</th>\n",
       "      <th>Country Code</th>\n",
       "      <th>Year</th>\n",
       "      <th>Rural_Value</th>\n",
       "      <th>Electricity_Value</th>\n",
       "    </tr>\n",
       "  </thead>\n",
       "  <tbody>\n",
       "    <tr>\n",
       "      <th>0</th>\n",
       "      <td>Aruba</td>\n",
       "      <td>ABW</td>\n",
       "      <td>1960</td>\n",
       "      <td>49.224</td>\n",
       "      <td>NaN</td>\n",
       "    </tr>\n",
       "    <tr>\n",
       "      <th>1</th>\n",
       "      <td>Afghanistan</td>\n",
       "      <td>AFG</td>\n",
       "      <td>1960</td>\n",
       "      <td>91.779</td>\n",
       "      <td>NaN</td>\n",
       "    </tr>\n",
       "    <tr>\n",
       "      <th>2</th>\n",
       "      <td>Angola</td>\n",
       "      <td>AGO</td>\n",
       "      <td>1960</td>\n",
       "      <td>89.565</td>\n",
       "      <td>NaN</td>\n",
       "    </tr>\n",
       "    <tr>\n",
       "      <th>3</th>\n",
       "      <td>Albania</td>\n",
       "      <td>ALB</td>\n",
       "      <td>1960</td>\n",
       "      <td>69.295</td>\n",
       "      <td>NaN</td>\n",
       "    </tr>\n",
       "    <tr>\n",
       "      <th>4</th>\n",
       "      <td>Andorra</td>\n",
       "      <td>AND</td>\n",
       "      <td>1960</td>\n",
       "      <td>41.550</td>\n",
       "      <td>NaN</td>\n",
       "    </tr>\n",
       "  </tbody>\n",
       "</table>\n",
       "</div>"
      ],
      "text/plain": [
       "  Country Name Country Code  Year  Rural_Value  Electricity_Value\n",
       "0        Aruba          ABW  1960       49.224                NaN\n",
       "1  Afghanistan          AFG  1960       91.779                NaN\n",
       "2       Angola          AGO  1960       89.565                NaN\n",
       "3      Albania          ALB  1960       69.295                NaN\n",
       "4      Andorra          AND  1960       41.550                NaN"
      ]
     },
     "execution_count": 5,
     "metadata": {},
     "output_type": "execute_result"
    }
   ],
   "source": [
    "# TODO: merge the data sets together according to the instructions. First, use the \n",
    "# melt method to change the formatting of each data frame so that it looks like this:\n",
    "# Country Name, Country Code, Year, Rural Value\n",
    "# Country Name, Country Code, Year, Electricity Value\n",
    "\n",
    "df_rural_melt = pd.melt(df_rural,\\\n",
    "                        id_vars=['Country Name', 'Country Code', 'Indicator Name', 'Indicator Code'],\\\n",
    "                       var_name = 'Year', value_name='Rural_Value')\n",
    "df_electricity_melt = pd.melt(df_electricity,\\\n",
    "                              id_vars=['Country Name', 'Country Code', 'Indicator Name', 'Indicator Code'],\\\n",
    "                             var_name='Year', value_name='Electricity_Value')\n",
    "\n",
    "# TODO: drop any columns from the data frames that aren't needed\n",
    "df_rural_melt.drop(['Indicator Name', 'Indicator Code'], axis=1, inplace=True)\n",
    "df_electricity_melt.drop(['Indicator Name', 'Indicator Code'], axis=1, inplace=True)\n",
    "\n",
    "# TODO: merge the data frames together based on their common columns\n",
    "# in this case, the common columns are Country Name, Country Code, and Year\n",
    "df_merge = df_rural_melt.merge(df_electricity_melt, how='outer',\\\n",
    "                               on=['Country Name', 'Country Code', 'Year'])\n",
    "\n",
    "# TODO: sort the results by country and then by year\n",
    "df_combined = df_merge.sort_values(['Country Name', 'Year'])\n",
    "df_combined"
   ]
  },
  {
   "cell_type": "code",
   "execution_count": null,
   "metadata": {},
   "outputs": [],
   "source": []
  }
 ],
 "metadata": {
  "kernelspec": {
   "display_name": "Python 3.8.10 ('venv': venv)",
   "language": "python",
   "name": "python3"
  },
  "language_info": {
   "codemirror_mode": {
    "name": "ipython",
    "version": 3
   },
   "file_extension": ".py",
   "mimetype": "text/x-python",
   "name": "python",
   "nbconvert_exporter": "python",
   "pygments_lexer": "ipython3",
   "version": "3.8.10"
  },
  "vscode": {
   "interpreter": {
    "hash": "b2a8661282cfacf4edc05dcbaf70d4b702eaa37d9a94ad18ef8b5718413469be"
   }
  }
 },
 "nbformat": 4,
 "nbformat_minor": 2
}
